{
 "cells": [
  {
   "cell_type": "code",
   "execution_count": 1,
   "metadata": {},
   "outputs": [],
   "source": [
    "import pandas as pd\n",
    "from sklearn.model_selection import train_test_split"
   ]
  },
  {
   "cell_type": "code",
   "execution_count": 2,
   "metadata": {},
   "outputs": [],
   "source": [
    "adult_census = pd.read_csv('data/adult-census.csv')\n",
    "\n",
    "target_name = \"class\"\n",
    "target = adult_census[target_name]\n",
    "data = adult_census.drop(columns=[target_name, \"education-num\"])\n",
    "\n",
    "data_train, data_test, target_train, target_test = train_test_split(\n",
    "    data, target, train_size=0.2, random_state=42)"
   ]
  },
  {
   "cell_type": "code",
   "execution_count": 3,
   "metadata": {},
   "outputs": [],
   "source": [
    "from sklearn.compose import ColumnTransformer\n",
    "from sklearn.compose import make_column_selector as selector\n",
    "from sklearn.preprocessing import OrdinalEncoder"
   ]
  },
  {
   "cell_type": "code",
   "execution_count": 4,
   "metadata": {},
   "outputs": [],
   "source": [
    "categorical_preprocessor = OrdinalEncoder(handle_unknown=\"use_encoded_value\",\n",
    "                                          unknown_value=-1)\n",
    "preprocessor = ColumnTransformer(\n",
    "    [('cat-preprocessor', categorical_preprocessor,\n",
    "      selector(dtype_include=object))],\n",
    "    remainder='passthrough', sparse_threshold=0)"
   ]
  },
  {
   "cell_type": "code",
   "execution_count": 5,
   "metadata": {},
   "outputs": [],
   "source": [
    "# This line is currently required to import HistGradientBoostingClassifier\n",
    "from sklearn.experimental import enable_hist_gradient_boosting\n",
    "from sklearn.ensemble import HistGradientBoostingClassifier\n",
    "from sklearn.pipeline import Pipeline"
   ]
  },
  {
   "cell_type": "code",
   "execution_count": 6,
   "metadata": {},
   "outputs": [],
   "source": [
    "model = Pipeline([\n",
    "    (\"preprocessor\", preprocessor),\n",
    "    (\"classifier\", HistGradientBoostingClassifier(random_state=42))\n",
    "])"
   ]
  },
  {
   "cell_type": "markdown",
   "metadata": {},
   "source": [
    "## Personal Work"
   ]
  },
  {
   "cell_type": "code",
   "execution_count": 7,
   "metadata": {},
   "outputs": [],
   "source": [
    "from sklearn.model_selection import cross_val_score"
   ]
  },
  {
   "cell_type": "code",
   "execution_count": 8,
   "metadata": {},
   "outputs": [],
   "source": [
    "learning_rate_values = [0.01, 0.1, 1, 10]\n",
    "max_leaf_nodes_values = [3, 10, 30]"
   ]
  },
  {
   "cell_type": "code",
   "execution_count": 9,
   "metadata": {},
   "outputs": [
    {
     "name": "stdout",
     "output_type": "stream",
     "text": [
      "Accuracy score via cross-validation with learning_rate=0.01 and max_leaf_nodes=3:\n",
      "0.789 +/- 0.001\n",
      "Accuracy score via cross-validation with learning_rate=0.01 and max_leaf_nodes=10:\n",
      "0.813 +/- 0.002\n",
      "Accuracy score via cross-validation with learning_rate=0.01 and max_leaf_nodes=30:\n",
      "0.842 +/- 0.001\n",
      "Accuracy score via cross-validation with learning_rate=0.1 and max_leaf_nodes=3:\n",
      "0.847 +/- 0.002\n",
      "Accuracy score via cross-validation with learning_rate=0.1 and max_leaf_nodes=10:\n",
      "0.859 +/- 0.001\n",
      "Accuracy score via cross-validation with learning_rate=0.1 and max_leaf_nodes=30:\n",
      "0.857 +/- 0.003\n",
      "Accuracy score via cross-validation with learning_rate=1 and max_leaf_nodes=3:\n",
      "0.851 +/- 0.000\n",
      "Accuracy score via cross-validation with learning_rate=1 and max_leaf_nodes=10:\n",
      "0.833 +/- 0.002\n",
      "Accuracy score via cross-validation with learning_rate=1 and max_leaf_nodes=30:\n",
      "0.804 +/- 0.028\n",
      "Accuracy score via cross-validation with learning_rate=10 and max_leaf_nodes=3:\n",
      "0.288 +/- 0.007\n",
      "Accuracy score via cross-validation with learning_rate=10 and max_leaf_nodes=10:\n",
      "0.480 +/- 0.256\n",
      "Accuracy score via cross-validation with learning_rate=10 and max_leaf_nodes=30:\n",
      "0.594 +/- 0.101\n"
     ]
    }
   ],
   "source": [
    "for rate in learning_rate_values:\n",
    "    for value in max_leaf_nodes_values:\n",
    "        model.set_params(classifier__learning_rate=rate)\n",
    "        model.set_params(classifier__max_leaf_nodes=value)\n",
    "        scores = cross_val_score(model, data_train, target_train, cv=2)\n",
    "        print(f\"Accuracy score via cross-validation with learning_rate={rate} and max_leaf_nodes={value}:\\n\"\n",
    "              f\"{scores.mean():.3f} +/- {scores.std():.3f}\")"
   ]
  },
  {
   "cell_type": "code",
   "execution_count": 10,
   "metadata": {},
   "outputs": [
    {
     "data": {
      "text/plain": [
       "{'memory': None,\n",
       " 'steps': [('preprocessor',\n",
       "   ColumnTransformer(remainder='passthrough', sparse_threshold=0,\n",
       "                     transformers=[('cat-preprocessor',\n",
       "                                    OrdinalEncoder(handle_unknown='use_encoded_value',\n",
       "                                                   unknown_value=-1),\n",
       "                                    <sklearn.compose._column_transformer.make_column_selector object at 0x00000250F8659D90>)])),\n",
       "  ('classifier',\n",
       "   HistGradientBoostingClassifier(learning_rate=10, max_leaf_nodes=30,\n",
       "                                  random_state=42))],\n",
       " 'verbose': False,\n",
       " 'preprocessor': ColumnTransformer(remainder='passthrough', sparse_threshold=0,\n",
       "                   transformers=[('cat-preprocessor',\n",
       "                                  OrdinalEncoder(handle_unknown='use_encoded_value',\n",
       "                                                 unknown_value=-1),\n",
       "                                  <sklearn.compose._column_transformer.make_column_selector object at 0x00000250F8659D90>)]),\n",
       " 'classifier': HistGradientBoostingClassifier(learning_rate=10, max_leaf_nodes=30,\n",
       "                                random_state=42),\n",
       " 'preprocessor__n_jobs': None,\n",
       " 'preprocessor__remainder': 'passthrough',\n",
       " 'preprocessor__sparse_threshold': 0,\n",
       " 'preprocessor__transformer_weights': None,\n",
       " 'preprocessor__transformers': [('cat-preprocessor',\n",
       "   OrdinalEncoder(handle_unknown='use_encoded_value', unknown_value=-1),\n",
       "   <sklearn.compose._column_transformer.make_column_selector at 0x250f8659d90>)],\n",
       " 'preprocessor__verbose': False,\n",
       " 'preprocessor__cat-preprocessor': OrdinalEncoder(handle_unknown='use_encoded_value', unknown_value=-1),\n",
       " 'preprocessor__cat-preprocessor__categories': 'auto',\n",
       " 'preprocessor__cat-preprocessor__dtype': numpy.float64,\n",
       " 'preprocessor__cat-preprocessor__handle_unknown': 'use_encoded_value',\n",
       " 'preprocessor__cat-preprocessor__unknown_value': -1,\n",
       " 'classifier__categorical_features': None,\n",
       " 'classifier__early_stopping': 'auto',\n",
       " 'classifier__l2_regularization': 0.0,\n",
       " 'classifier__learning_rate': 10,\n",
       " 'classifier__loss': 'auto',\n",
       " 'classifier__max_bins': 255,\n",
       " 'classifier__max_depth': None,\n",
       " 'classifier__max_iter': 100,\n",
       " 'classifier__max_leaf_nodes': 30,\n",
       " 'classifier__min_samples_leaf': 20,\n",
       " 'classifier__monotonic_cst': None,\n",
       " 'classifier__n_iter_no_change': 10,\n",
       " 'classifier__random_state': 42,\n",
       " 'classifier__scoring': 'loss',\n",
       " 'classifier__tol': 1e-07,\n",
       " 'classifier__validation_fraction': 0.1,\n",
       " 'classifier__verbose': 0,\n",
       " 'classifier__warm_start': False}"
      ]
     },
     "execution_count": 10,
     "metadata": {},
     "output_type": "execute_result"
    }
   ],
   "source": [
    "model.get_params()"
   ]
  },
  {
   "cell_type": "markdown",
   "metadata": {},
   "source": [
    "## Solution"
   ]
  },
  {
   "cell_type": "code",
   "execution_count": null,
   "metadata": {},
   "outputs": [
    {
     "name": "stdout",
     "output_type": "stream",
     "text": [
      "Evaluating model with learning rate 0.010 and max leaf nodes 3... score: 0.789\n",
      "Found new best model with score 0.789!\n",
      "Evaluating model with learning rate 0.010 and max leaf nodes 10... score: 0.813\n",
      "Found new best model with score 0.813!\n",
      "Evaluating model with learning rate 0.010 and max leaf nodes 30... score: 0.842\n",
      "Found new best model with score 0.842!\n",
      "Evaluating model with learning rate 0.100 and max leaf nodes 3... score: 0.847\n",
      "Found new best model with score 0.847!\n",
      "Evaluating model with learning rate 0.100 and max leaf nodes 10... score: 0.859\n",
      "Found new best model with score 0.859!\n",
      "Evaluating model with learning rate 0.100 and max leaf nodes 30... score: 0.857\n",
      "Evaluating model with learning rate 1.000 and max leaf nodes 3... "
     ]
    }
   ],
   "source": [
    "learning_rate = [0.01, 0.1, 1, 10]\n",
    "max_leaf_nodes = [3, 10, 30]\n",
    "\n",
    "best_score = 0\n",
    "best_params = {}\n",
    "for lr in learning_rate:\n",
    "    for mln in max_leaf_nodes:\n",
    "        print(f\"Evaluating model with learning rate {lr:.3f}\"\n",
    "              f\" and max leaf nodes {mln}... \", end=\"\")\n",
    "        model.set_params(\n",
    "            classifier__learning_rate=lr,\n",
    "            classifier__max_leaf_nodes=mln\n",
    "        )\n",
    "        scores = cross_val_score(model, data_train, target_train, cv=2)\n",
    "        mean_score = scores.mean()\n",
    "        print(f\"score: {mean_score:.3f}\")\n",
    "        if mean_score > best_score:\n",
    "            best_score = mean_score\n",
    "            best_params = {'learning-rate': lr, 'max leaf nodes': mln}\n",
    "            print(f\"Found new best model with score {best_score:.3f}!\")\n",
    "\n",
    "print(f\"The best accuracy obtained is {best_score:.3f}\")\n",
    "print(f\"The best parameters found are:\\n {best_params}\")"
   ]
  },
  {
   "cell_type": "code",
   "execution_count": null,
   "metadata": {},
   "outputs": [],
   "source": []
  }
 ],
 "metadata": {
  "kernelspec": {
   "display_name": "Python 3",
   "language": "python",
   "name": "python3"
  },
  "language_info": {
   "codemirror_mode": {
    "name": "ipython",
    "version": 3
   },
   "file_extension": ".py",
   "mimetype": "text/x-python",
   "name": "python",
   "nbconvert_exporter": "python",
   "pygments_lexer": "ipython3",
   "version": "3.8.5"
  }
 },
 "nbformat": 4,
 "nbformat_minor": 4
}
